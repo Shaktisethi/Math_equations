{
 "cells": [
  {
   "cell_type": "code",
   "execution_count": 4,
   "id": "ea928e4c",
   "metadata": {},
   "outputs": [
    {
     "name": "stdout",
     "output_type": "stream",
     "text": [
      "Collecting latexify-py\n",
      "  Downloading latexify_py-0.2.0-py3-none-any.whl (22 kB)\n",
      "Collecting dill>=0.3.2\n",
      "  Downloading dill-0.3.6-py3-none-any.whl (110 kB)\n",
      "Installing collected packages: dill, latexify-py\n",
      "Successfully installed dill-0.3.6 latexify-py-0.2.0\n"
     ]
    }
   ],
   "source": [
    "!pip install latexify-py"
   ]
  },
  {
   "cell_type": "code",
   "execution_count": 5,
   "id": "a94964f5",
   "metadata": {
    "scrolled": true
   },
   "outputs": [],
   "source": [
    "import math\n",
    "import latexify"
   ]
  },
  {
   "cell_type": "code",
   "execution_count": 31,
   "id": "bd9458d0",
   "metadata": {},
   "outputs": [
    {
     "data": {
      "text/latex": [
       "$$ \\displaystyle \\mathrm{solve}(a, b, c) = -b + \\frac{-\\sqrt{b^{{2}} - {4} a c}}{{2} a} $$"
      ],
      "text/plain": [
       "<latexify.frontend.LatexifiedFunction at 0x24a26ea2340>"
      ]
     },
     "execution_count": 31,
     "metadata": {},
     "output_type": "execute_result"
    }
   ],
   "source": [
    "@latexify.with_latex\n",
    "def solve (a,b,c):\n",
    "    return (-b+-math.sqrt(b**2-4*a*c)/(2*a))\n",
    "solve"
   ]
  },
  {
   "cell_type": "code",
   "execution_count": 38,
   "id": "271c9c67",
   "metadata": {},
   "outputs": [
    {
     "name": "stdout",
     "output_type": "stream",
     "text": [
      "Roots: ((-0.5+0.7071067811865476j), (-0.5-0.7071067811865476j))\n"
     ]
    }
   ],
   "source": [
    "import math\n",
    "\n",
    "def solve_quadratic(a, b, c):\n",
    "    # Calculate the discriminant\n",
    "    discriminant = b**2 - 4*a*c\n",
    "\n",
    "    # Check if the discriminant is positive, zero, or negative\n",
    "    if discriminant > 0:\n",
    "        # Two real and distinct roots\n",
    "        root1 = (-b + math.sqrt(discriminant)) / (2*a)\n",
    "        root2 = (-b - math.sqrt(discriminant)) / (2*a)\n",
    "        return root1, root2\n",
    "    elif discriminant == 0:\n",
    "        # One real root (repeated root)\n",
    "        root = -b / (2*a)\n",
    "        return root\n",
    "    else:\n",
    "        # Complex roots (imaginary part)\n",
    "        real_part = -b / (2*a)\n",
    "        imaginary_part = math.sqrt(abs(discriminant)) / (2*a)\n",
    "        root1 = complex(real_part, imaginary_part)\n",
    "        root2 = complex(real_part, -imaginary_part)\n",
    "        return root1, root2\n",
    "\n",
    "# Example usage\n",
    "a = 4\n",
    "b = 4\n",
    "c = 3\n",
    "roots = solve_quadratic(a, b, c)\n",
    "print(\"Roots:\", roots)\n"
   ]
  },
  {
   "cell_type": "code",
   "execution_count": 43,
   "id": "25fa1b24",
   "metadata": {},
   "outputs": [
    {
     "data": {
      "text/latex": [
       "$$ \\displaystyle \\mathrm{fib}(x) = \\left\\{ \\begin{array}{ll} {1}, & \\mathrm{if} \\ {x = {0}} \\\\ {1}, & \\mathrm{if} \\ {x = {1}} \\\\ \\mathrm{fib}\\left(x - {1}\\right) + \\mathrm{fib}\\left(x - {2}\\right), & \\mathrm{otherwise} \\end{array} \\right. $$"
      ],
      "text/plain": [
       "<latexify.frontend.LatexifiedFunction at 0x24a26d83070>"
      ]
     },
     "execution_count": 43,
     "metadata": {},
     "output_type": "execute_result"
    }
   ],
   "source": [
    "\n",
    "@latexify.with_latex\n",
    "def fib(x):\n",
    "    if x==0:\n",
    "        return 1\n",
    "    elif x==1:\n",
    "        return 1\n",
    "    else:\n",
    "        return fib(x-1)+fib(x-2)\n",
    "fib\n"
   ]
  },
  {
   "cell_type": "code",
   "execution_count": 44,
   "id": "4f8435fc",
   "metadata": {},
   "outputs": [
    {
     "name": "stdout",
     "output_type": "stream",
     "text": [
      "13\n"
     ]
    }
   ],
   "source": [
    "x=6\n",
    "d=fib(x)\n",
    "print(d)"
   ]
  },
  {
   "cell_type": "code",
   "execution_count": 45,
   "id": "b6352e32",
   "metadata": {},
   "outputs": [
    {
     "data": {
      "text/latex": [
       "$$ \\displaystyle \\mathrm{greek}(alpha, beta, gamma, Omega) = alpha beta + \\Gamma\\left({gamma}\\right) + Omega $$"
      ],
      "text/plain": [
       "<latexify.frontend.LatexifiedFunction at 0x24a27942520>"
      ]
     },
     "execution_count": 45,
     "metadata": {},
     "output_type": "execute_result"
    }
   ],
   "source": [
    "@latexify.with_latex\n",
    "def greek(alpha, beta, gamma, Omega):\n",
    "    return alpha * beta + math.gamma(gamma)+Omega\n",
    "greek"
   ]
  },
  {
   "cell_type": "code",
   "execution_count": 46,
   "id": "03b2d06a",
   "metadata": {},
   "outputs": [],
   "source": [
    "import numpy as np\n",
    "import scipy as sp\n",
    "import sympy as smp\n",
    "import matplotlib.pyplot as plt\n",
    "from scipy.integrate import quad\n",
    "from scipy.integrate import cumulative_trapezoid"
   ]
  },
  {
   "cell_type": "code",
   "execution_count": 47,
   "id": "636ac72b",
   "metadata": {},
   "outputs": [],
   "source": [
    "# 1. Solve one equation"
   ]
  },
  {
   "cell_type": "code",
   "execution_count": 49,
   "id": "c528bbee",
   "metadata": {},
   "outputs": [],
   "source": [
    "x=smp.symbols('x',real=True)\n",
    "f=smp.sin(x)**3*smp.exp(-5*x)"
   ]
  },
  {
   "cell_type": "markdown",
   "id": "e895e21e",
   "metadata": {},
   "source": [
    "smp.integrate(f,x)"
   ]
  },
  {
   "cell_type": "code",
   "execution_count": 50,
   "id": "a436988b",
   "metadata": {},
   "outputs": [
    {
     "data": {
      "text/latex": [
       "$\\displaystyle - \\frac{40 e^{- 5 x} \\sin^{3}{\\left(x \\right)}}{221} - \\frac{21 e^{- 5 x} \\sin^{2}{\\left(x \\right)} \\cos{\\left(x \\right)}}{221} - \\frac{15 e^{- 5 x} \\sin{\\left(x \\right)} \\cos^{2}{\\left(x \\right)}}{442} - \\frac{3 e^{- 5 x} \\cos^{3}{\\left(x \\right)}}{442}$"
      ],
      "text/plain": [
       "-40*exp(-5*x)*sin(x)**3/221 - 21*exp(-5*x)*sin(x)**2*cos(x)/221 - 15*exp(-5*x)*sin(x)*cos(x)**2/442 - 3*exp(-5*x)*cos(x)**3/442"
      ]
     },
     "execution_count": 50,
     "metadata": {},
     "output_type": "execute_result"
    }
   ],
   "source": [
    "smp.integrate(f,x)"
   ]
  },
  {
   "cell_type": "code",
   "execution_count": 55,
   "id": "71e5a364",
   "metadata": {},
   "outputs": [],
   "source": [
    "d=smp.integrate(f,x)"
   ]
  },
  {
   "cell_type": "code",
   "execution_count": 57,
   "id": "e3be5431",
   "metadata": {},
   "outputs": [
    {
     "data": {
      "text/latex": [
       "$\\displaystyle e^{- 5 x} \\sin^{3}{\\left(x \\right)}$"
      ],
      "text/plain": [
       "exp(-5*x)*sin(x)**3"
      ]
     },
     "execution_count": 57,
     "metadata": {},
     "output_type": "execute_result"
    }
   ],
   "source": [
    "f"
   ]
  },
  {
   "cell_type": "code",
   "execution_count": 72,
   "id": "3204b8fe",
   "metadata": {},
   "outputs": [],
   "source": [
    "# 2. Solve one equation"
   ]
  },
  {
   "cell_type": "code",
   "execution_count": 73,
   "id": "b7ce3bc9",
   "metadata": {
    "scrolled": true
   },
   "outputs": [],
   "source": [
    "a,b=smp.symbols('a b',real=True, positive=True)\n",
    "y=smp.symbols('y',real=True)\n",
    "ff=smp.cos(b*y)* smp.exp(-a*y)"
   ]
  },
  {
   "cell_type": "code",
   "execution_count": 74,
   "id": "bf00e10e",
   "metadata": {},
   "outputs": [
    {
     "data": {
      "text/latex": [
       "$\\displaystyle e^{- a y} \\cos{\\left(b y \\right)}$"
      ],
      "text/plain": [
       "exp(-a*y)*cos(b*y)"
      ]
     },
     "execution_count": 74,
     "metadata": {},
     "output_type": "execute_result"
    }
   ],
   "source": [
    "# integral\n",
    "ff"
   ]
  },
  {
   "cell_type": "code",
   "execution_count": 75,
   "id": "f32f90d5",
   "metadata": {},
   "outputs": [
    {
     "data": {
      "text/latex": [
       "$\\displaystyle \\frac{\\left(- a \\cos{\\left(b y \\right)} + b \\sin{\\left(b y \\right)}\\right) e^{- a y}}{a^{2} + b^{2}}$"
      ],
      "text/plain": [
       "(-a*cos(b*y) + b*sin(b*y))*exp(-a*y)/(a**2 + b**2)"
      ]
     },
     "execution_count": 75,
     "metadata": {},
     "output_type": "execute_result"
    }
   ],
   "source": [
    "smp.integrate(f,y).simplify()"
   ]
  },
  {
   "cell_type": "code",
   "execution_count": 76,
   "id": "665bc524",
   "metadata": {},
   "outputs": [],
   "source": [
    "import math"
   ]
  },
  {
   "cell_type": "code",
   "execution_count": 90,
   "id": "0197c59d",
   "metadata": {},
   "outputs": [],
   "source": [
    "# 3. Solve one equation"
   ]
  },
  {
   "cell_type": "code",
   "execution_count": 86,
   "id": "950ad4a9",
   "metadata": {},
   "outputs": [],
   "source": [
    "fc=(1+smp.sqrt(x))**smp.Rational(1,3)/smp.sqrt(x)\n"
   ]
  },
  {
   "cell_type": "code",
   "execution_count": 88,
   "id": "9119d5b0",
   "metadata": {},
   "outputs": [
    {
     "data": {
      "text/latex": [
       "$\\displaystyle \\frac{\\sqrt[3]{\\sqrt{x} + 1}}{\\sqrt{x}}$"
      ],
      "text/plain": [
       "(sqrt(x) + 1)**(1/3)/sqrt(x)"
      ]
     },
     "execution_count": 88,
     "metadata": {},
     "output_type": "execute_result"
    }
   ],
   "source": [
    "# integral\n",
    "fc"
   ]
  },
  {
   "cell_type": "code",
   "execution_count": 89,
   "id": "57d621c4",
   "metadata": {},
   "outputs": [
    {
     "data": {
      "text/latex": [
       "$\\displaystyle \\frac{3 \\sqrt{x} \\sqrt[3]{\\sqrt{x} + 1}}{2} + \\frac{3 \\sqrt[3]{\\sqrt{x} + 1}}{2}$"
      ],
      "text/plain": [
       "3*sqrt(x)*(sqrt(x) + 1)**(1/3)/2 + 3*(sqrt(x) + 1)**(1/3)/2"
      ]
     },
     "execution_count": 89,
     "metadata": {},
     "output_type": "execute_result"
    }
   ],
   "source": [
    "smp.integrate(fc,x)"
   ]
  },
  {
   "cell_type": "code",
   "execution_count": 92,
   "id": "50542429",
   "metadata": {},
   "outputs": [],
   "source": [
    "# 4. Solve one equation\n",
    "# integral 0 to log(4)"
   ]
  },
  {
   "cell_type": "code",
   "execution_count": 94,
   "id": "426259d9",
   "metadata": {},
   "outputs": [],
   "source": [
    "f=smp.exp(x)/smp.sqrt((smp.exp(2*x)+9))"
   ]
  },
  {
   "cell_type": "code",
   "execution_count": 95,
   "id": "0e28c288",
   "metadata": {},
   "outputs": [],
   "source": [
    "fc1=smp.integrate(f,(x,0,smp.log(4)))"
   ]
  },
  {
   "cell_type": "code",
   "execution_count": 96,
   "id": "d939c5c0",
   "metadata": {},
   "outputs": [
    {
     "data": {
      "text/latex": [
       "$\\displaystyle - \\operatorname{asinh}{\\left(\\frac{1}{3} \\right)} + \\operatorname{asinh}{\\left(\\frac{4}{3} \\right)}$"
      ],
      "text/plain": [
       "-asinh(1/3) + asinh(4/3)"
      ]
     },
     "execution_count": 96,
     "metadata": {},
     "output_type": "execute_result"
    }
   ],
   "source": [
    "fc1"
   ]
  },
  {
   "cell_type": "code",
   "execution_count": 97,
   "id": "f5ebde8a",
   "metadata": {},
   "outputs": [
    {
     "data": {
      "text/latex": [
       "$\\displaystyle \\frac{e^{x}}{\\sqrt{e^{2 x} + 9}}$"
      ],
      "text/plain": [
       "exp(x)/sqrt(exp(2*x) + 9)"
      ]
     },
     "execution_count": 97,
     "metadata": {},
     "output_type": "execute_result"
    }
   ],
   "source": [
    "f"
   ]
  },
  {
   "cell_type": "code",
   "execution_count": 99,
   "id": "b0c09477",
   "metadata": {},
   "outputs": [],
   "source": [
    "fc2=16*smp.atan(x)/(1+x**2)\n",
    "fcc2=smp.integrate(fc2,(x,0, smp.oo))"
   ]
  },
  {
   "cell_type": "code",
   "execution_count": 100,
   "id": "29e84f12",
   "metadata": {},
   "outputs": [
    {
     "data": {
      "text/latex": [
       "$\\displaystyle \\frac{16 \\operatorname{atan}{\\left(x \\right)}}{x^{2} + 1}$"
      ],
      "text/plain": [
       "16*atan(x)/(x**2 + 1)"
      ]
     },
     "execution_count": 100,
     "metadata": {},
     "output_type": "execute_result"
    }
   ],
   "source": [
    "fc2"
   ]
  },
  {
   "cell_type": "code",
   "execution_count": 101,
   "id": "5388c2da",
   "metadata": {},
   "outputs": [
    {
     "data": {
      "text/latex": [
       "$\\displaystyle 2 \\pi^{2}$"
      ],
      "text/plain": [
       "2*pi**2"
      ]
     },
     "execution_count": 101,
     "metadata": {},
     "output_type": "execute_result"
    }
   ],
   "source": [
    "fcc2"
   ]
  },
  {
   "cell_type": "code",
   "execution_count": 102,
   "id": "6c22cfa5",
   "metadata": {},
   "outputs": [],
   "source": [
    "# Part 2: Unsolvable integrals"
   ]
  },
  {
   "cell_type": "code",
   "execution_count": 105,
   "id": "34a09df7",
   "metadata": {},
   "outputs": [],
   "source": [
    "# 1.1 way\n",
    "fc3=smp.exp(1/smp.sin(x))\n",
    "fcc3=smp.integrate(fc3,(x,1,2))"
   ]
  },
  {
   "cell_type": "code",
   "execution_count": 108,
   "id": "8d4f77e2",
   "metadata": {},
   "outputs": [
    {
     "data": {
      "text/latex": [
       "$\\displaystyle \\int\\limits_{1}^{2} e^{\\frac{1}{\\sin{\\left(x \\right)}}}\\, dx$"
      ],
      "text/plain": [
       "Integral(exp(1/sin(x)), (x, 1, 2))"
      ]
     },
     "execution_count": 108,
     "metadata": {},
     "output_type": "execute_result"
    }
   ],
   "source": [
    "smp.integrate(fc3,(x,1,2))"
   ]
  },
  {
   "cell_type": "code",
   "execution_count": 106,
   "id": "ce6812e2",
   "metadata": {},
   "outputs": [
    {
     "data": {
      "text/latex": [
       "$\\displaystyle e^{\\frac{1}{\\sin{\\left(x \\right)}}}$"
      ],
      "text/plain": [
       "exp(1/sin(x))"
      ]
     },
     "execution_count": 106,
     "metadata": {},
     "output_type": "execute_result"
    }
   ],
   "source": [
    "fc3"
   ]
  },
  {
   "cell_type": "code",
   "execution_count": 107,
   "id": "926226fe",
   "metadata": {},
   "outputs": [
    {
     "data": {
      "text/latex": [
       "$\\displaystyle \\int\\limits_{1}^{2} e^{\\frac{1}{\\sin{\\left(x \\right)}}}\\, dx$"
      ],
      "text/plain": [
       "Integral(exp(1/sin(x)), (x, 1, 2))"
      ]
     },
     "execution_count": 107,
     "metadata": {},
     "output_type": "execute_result"
    }
   ],
   "source": [
    "fcc3"
   ]
  },
  {
   "cell_type": "code",
   "execution_count": null,
   "id": "6a6d3cf6",
   "metadata": {},
   "outputs": [],
   "source": [
    "# 1.2 way by using scipy's quad function integrate numerically\n"
   ]
  },
  {
   "cell_type": "code",
   "execution_count": 111,
   "id": "7b1314d5",
   "metadata": {},
   "outputs": [
    {
     "data": {
      "text/plain": [
       "(0.3845918142796868, 4.2698268729567035e-15)"
      ]
     },
     "execution_count": 111,
     "metadata": {},
     "output_type": "execute_result"
    }
   ],
   "source": [
    "f=lambda x: np.exp(-np.sin(x))\n",
    "quad(f,1,2)"
   ]
  },
  {
   "cell_type": "code",
   "execution_count": 112,
   "id": "212249c0",
   "metadata": {},
   "outputs": [],
   "source": [
    "# 2.1 \n",
    "fc5=1/(a-smp.cos(x))**2 + (b-smp.sin(x))**2\n",
    "fcc5=smp.integrate(fc5,(x,0,2*smp.pi)).simplify()"
   ]
  },
  {
   "cell_type": "code",
   "execution_count": 113,
   "id": "6af3c707",
   "metadata": {},
   "outputs": [
    {
     "data": {
      "text/latex": [
       "$\\displaystyle \\left(b - \\sin{\\left(x \\right)}\\right)^{2} + \\frac{1}{\\left(a - \\cos{\\left(x \\right)}\\right)^{2}}$"
      ],
      "text/plain": [
       "(b - sin(x))**2 + (a - cos(x))**(-2)"
      ]
     },
     "execution_count": 113,
     "metadata": {},
     "output_type": "execute_result"
    }
   ],
   "source": [
    "fc5"
   ]
  },
  {
   "cell_type": "code",
   "execution_count": 114,
   "id": "7926c3a5",
   "metadata": {},
   "outputs": [
    {
     "data": {
      "text/latex": [
       "$\\displaystyle \\int\\limits_{0}^{2 \\pi} \\frac{a^{2} b^{2} - 2 a^{2} b \\sin{\\left(x \\right)} + a^{2} \\sin^{2}{\\left(x \\right)} - 2 a b^{2} \\cos{\\left(x \\right)} + 2 a b \\sin{\\left(2 x \\right)} - 2 a \\sin^{2}{\\left(x \\right)} \\cos{\\left(x \\right)} + b^{2} \\cos^{2}{\\left(x \\right)} - 2 b \\sin{\\left(x \\right)} \\cos^{2}{\\left(x \\right)} - \\frac{\\cos{\\left(4 x \\right)}}{8} + \\frac{9}{8}}{\\left(a - \\cos{\\left(x \\right)}\\right)^{2}}\\, dx$"
      ],
      "text/plain": [
       "Integral((a**2*b**2 - 2*a**2*b*sin(x) + a**2*sin(x)**2 - 2*a*b**2*cos(x) + 2*a*b*sin(2*x) - 2*a*sin(x)**2*cos(x) + b**2*cos(x)**2 - 2*b*sin(x)*cos(x)**2 - cos(4*x)/8 + 9/8)/(a - cos(x))**2, (x, 0, 2*pi))"
      ]
     },
     "execution_count": 114,
     "metadata": {},
     "output_type": "execute_result"
    }
   ],
   "source": [
    "fcc5"
   ]
  },
  {
   "cell_type": "code",
   "execution_count": 115,
   "id": "7748eb90",
   "metadata": {},
   "outputs": [
    {
     "data": {
      "text/plain": [
       "(62.10865957051835, 4.608749598883639e-08)"
      ]
     },
     "execution_count": 115,
     "metadata": {},
     "output_type": "execute_result"
    }
   ],
   "source": [
    "# 2.2\n",
    "f=lambda x: 1/(a-np.cos(x))**2 +(b-np.sin(x))**2\n",
    "a,b=2,3\n",
    "quad(f, 0, 2*np.pi)"
   ]
  },
  {
   "cell_type": "code",
   "execution_count": 117,
   "id": "08d732be",
   "metadata": {},
   "outputs": [],
   "source": [
    "# 2.3\n",
    "def f(x,a,b):\n",
    "    return 1/((a-np.cos(x))**2 + (b-np.sin(x))**2)"
   ]
  },
  {
   "cell_type": "code",
   "execution_count": 123,
   "id": "1b375d20",
   "metadata": {},
   "outputs": [],
   "source": [
    "a_array=np.arange(2,10,1)\n",
    "b_array=np.arange(2,10,1)\n",
    "integrals=[[a,b, quad(f,0,2*np.pi, args=(a,b))[0]]for a in a_array for b in b_array]"
   ]
  },
  {
   "cell_type": "code",
   "execution_count": 119,
   "id": "ffc40c8e",
   "metadata": {},
   "outputs": [
    {
     "data": {
      "text/plain": [
       "array([2, 3, 4, 5, 6, 7, 8, 9])"
      ]
     },
     "execution_count": 119,
     "metadata": {},
     "output_type": "execute_result"
    }
   ],
   "source": [
    "a_array"
   ]
  },
  {
   "cell_type": "code",
   "execution_count": 124,
   "id": "acf9cfb7",
   "metadata": {},
   "outputs": [],
   "source": [
    "# Numerical case"
   ]
  },
  {
   "cell_type": "code",
   "execution_count": null,
   "id": "45fd8749",
   "metadata": {},
   "outputs": [],
   "source": [
    "x, y = np.loadtxt('../Data/sample_data3.txt')"
   ]
  },
  {
   "cell_type": "code",
   "execution_count": null,
   "id": "6fc083ea",
   "metadata": {},
   "outputs": [],
   "source": [
    "plt.plot(x,y)\n",
    "plt.xlabel('Time [ns]')\n",
    "plt.ylabel('Current [mA]')\n",
    "plt.savefig('example.png', dpi=200)\n",
    "plt.show()"
   ]
  },
  {
   "cell_type": "code",
   "execution_count": null,
   "id": "764be13f",
   "metadata": {},
   "outputs": [],
   "source": [
    "integral = cumulative_trapezoid(y,x, initial=0)"
   ]
  },
  {
   "cell_type": "code",
   "execution_count": null,
   "id": "7017db5a",
   "metadata": {},
   "outputs": [],
   "source": [
    "plt.plot(x, integral)\n",
    "plt.xlabel('Time [ns]')\n",
    "plt.ylabel('Integrated Current [pC]')\n",
    "plt.show()"
   ]
  },
  {
   "cell_type": "code",
   "execution_count": null,
   "id": "8ba1ff14",
   "metadata": {},
   "outputs": [],
   "source": []
  },
  {
   "cell_type": "code",
   "execution_count": null,
   "id": "7b100d09",
   "metadata": {},
   "outputs": [],
   "source": []
  },
  {
   "cell_type": "code",
   "execution_count": null,
   "id": "cc33459f",
   "metadata": {},
   "outputs": [],
   "source": []
  }
 ],
 "metadata": {
  "kernelspec": {
   "display_name": "Python 3 (ipykernel)",
   "language": "python",
   "name": "python3"
  },
  "language_info": {
   "codemirror_mode": {
    "name": "ipython",
    "version": 3
   },
   "file_extension": ".py",
   "mimetype": "text/x-python",
   "name": "python",
   "nbconvert_exporter": "python",
   "pygments_lexer": "ipython3",
   "version": "3.9.12"
  }
 },
 "nbformat": 4,
 "nbformat_minor": 5
}
